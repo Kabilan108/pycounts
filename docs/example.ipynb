{
    "cells": [
        {
            "attachments": {},
            "cell_type": "markdown",
            "metadata": {},
            "source": [
                "# Example usage\n",
                "\n",
                "Here we will demonstrate how to use `pycounts` to count the words in a text file and plot the top 5 results."
            ]
        },
        {
            "attachments": {},
            "cell_type": "markdown",
            "metadata": {},
            "source": [
                "## Imports"
            ]
        },
        {
            "cell_type": "code",
            "execution_count": null,
            "metadata": {},
            "outputs": [],
            "source": [
                "from pycounts_k108 import count_words, plot_words"
            ]
        },
        {
            "attachments": {},
            "cell_type": "markdown",
            "metadata": {},
            "source": [
                "## Create a text file\n",
                "\n",
                "We'll first create a text file to work with using a famous quote from Einstein:"
            ]
        },
        {
            "cell_type": "code",
            "execution_count": null,
            "metadata": {},
            "outputs": [],
            "source": [
                "quote = \"\"\"Instanity is doing the same thing\n",
                "over and over and expectng different results.\"\"\"\n",
                "with open(\"einstein.txt\", \"w\") as f:\n",
                "    f.write(quote)"
            ]
        },
        {
            "attachments": {},
            "cell_type": "markdown",
            "metadata": {},
            "source": [
                "## Count Words\n",
                "\n",
                "We can count the words in our text file using the `count_words()` function. Note that this function removes punctuation and makes all words lowercase before counting."
            ]
        },
        {
            "cell_type": "code",
            "execution_count": null,
            "metadata": {},
            "outputs": [],
            "source": [
                "counts = count_words(\"einstein.txt\")\n",
                "print(counts)"
            ]
        },
        {
            "attachments": {},
            "cell_type": "markdown",
            "metadata": {},
            "source": [
                "## Plot Words\n",
                "\n",
                "We can now plot the result using the plot_words() function:"
            ]
        },
        {
            "cell_type": "code",
            "execution_count": null,
            "metadata": {},
            "outputs": [],
            "source": [
                "fig = plot_words(counts, n=5)"
            ]
        }
    ],
    "metadata": {
        "kernelspec": {
            "display_name": "pycounts",
            "language": "python",
            "name": "python3"
        },
        "language_info": {
            "codemirror_mode": {
                "name": "ipython",
                "version": 3
            },
            "file_extension": ".py",
            "mimetype": "text/x-python",
            "name": "python",
            "nbconvert_exporter": "python",
            "pygments_lexer": "ipython3",
            "version": "3.10.8 (main, Nov 24 2022, 14:13:03) [GCC 11.2.0]"
        },
        "vscode": {
            "interpreter": {
                "hash": "63739487f6c3e002747a340d35d49f5cfa625c71c3e2cfc05c16acc10e5b83e6"
            }
        }
    },
    "nbformat": 4,
    "nbformat_minor": 4
}
